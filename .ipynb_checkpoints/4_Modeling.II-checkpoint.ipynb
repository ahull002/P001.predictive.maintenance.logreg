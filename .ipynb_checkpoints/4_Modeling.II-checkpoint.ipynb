{
 "cells": [
  {
   "cell_type": "markdown",
   "metadata": {},
   "source": [
    "<div class=\"alert alert-info\">\n",
    "<H2> Capstone 1 Predictive Maintenance </H2>\n",
    "<H3> Modeling </H3>\n",
    "    \n",
    "Steps involved:\n",
    "    <ol>\n",
    "        <li>___Import libraries and data___</li>\n",
    "        <li>___Select modeling technique___: As the second step in this phase of the project: modeling, I will select the actual modeling technique that I will be applying. </li>\n",
    "        <li>___Generate test design___: Before I actually build a model, I need to generate the procedure or mechanism to test the model’s validity and quality. This process may include for example, in supervised data mining tasks such as classification, it is common to use error rates as a quality measure for modeling. Accordingly, I will split the dataset into 1 — a training set, and 2.  a testing set, while building the model on the training set, and estimating its quality on the separate testing set.</li>\n",
    "        <li>___Build model___: Here I will run the modeling tool on the prepared dataset to create one or more models.</li>\n",
    "        <li>___Assess the model___: Here I will interpret the models according to my domain knowledge, the data mining success criteria, and the anticipated test design. I will also decide on the success of the application of the modeling and discovery methods technically, may contact with concerned business analysts and domain experts later to discuss data mining results in the appropriate business perspective. While this task considers models, the evaluation phase (Phase 5) further takes into account all other effects that occurred in the course of this analysis.\n",
    "At this stage, it is also important to rank the constructed models while assessing them according to any evaluation criteria. I will take the business objectives' success criteria into account as far as possible here.\n",
    "</li>\n",
    "    </ol>\n",
    "    \n"
   ]
  },
  {
   "cell_type": "markdown",
   "metadata": {},
   "source": [
    "<div class=\"alert alert-success\">\n",
    "<H3> Step 1. Import libraries and data </H3>"
   ]
  },
  {
   "cell_type": "code",
   "execution_count": 25,
   "metadata": {},
   "outputs": [],
   "source": [
    "# imports\n",
    "import pandas as pd\n",
    "import numpy as np\n",
    "from IPython.core.display import HTML\n",
    "\n",
    "pd.set_option('display.max_rows', 2000)\n",
    "pd.set_option('display.max_columns', 500)\n",
    "pd.set_option('display.width', 1000)\n",
    "\n",
    "# statistical processing\n",
    "from xgboost import XGBClassifier, cv, plot_importance\n",
    "from sklearn import preprocessing\n",
    "from sklearn.pipeline import Pipeline\n",
    "from sklearn.impute import SimpleImputer\n",
    "from sklearn.model_selection import train_test_split, RandomizedSearchCV, GridSearchCV, cross_val_score\n",
    "from sklearn.linear_model import LinearRegression, Ridge, LogisticRegression\n",
    "from sklearn.metrics import mean_squared_error, r2_score, accuracy_score, classification_report, confusion_matrix, roc_curve, roc_auc_score\n",
    "from statsmodels.stats.outliers_influence import variance_inflation_factor\n",
    "import statsmodels.api as sm\n",
    "from statsmodels.stats.outliers_influence import variance_inflation_factor\n",
    "import pandas.core.algorithms as algos\n",
    "from pandas import Series\n",
    "from scipy import stats\n",
    "import scipy.stats.stats as stats\n",
    "import re\n",
    "import traceback\n",
    "import string\n",
    "\n",
    "# data viz imports\n",
    "import seaborn as sns\n",
    "import matplotlib.pyplot as plt\n",
    "\n",
    "# viz styling\n",
    "%matplotlib inline\n",
    "\n",
    "# for reading csv files\n",
    "import os\n",
    "# for reading csv files\n",
    "import glob \n",
    "# for trig on angles\n",
    "import math \n",
    "# to search strings for nums\n",
    "import re\n",
    "# to combine final dfs into a single df\n",
    "from functools import reduce \n",
    "\n",
    "# load data\n",
    "df1 = pd.read_csv('data/upsampled1.csv')"
   ]
  },
  {
   "cell_type": "markdown",
   "metadata": {},
   "source": [
    "<div class=\"alert alert-success\">\n",
    "<H3> Step 3. Generate test design </H3>\n",
    "    \n",
    "Sub-Steps involved:\n",
    "    <ol>\n",
    "        <li>Here I will describe the intended plan for training, testing, and evaluating the select modeling effort. A chief component of the process here is determining how to divide the available dataset into training, and testing datasets. </li>\n",
    "    </ol>"
   ]
  },
  {
   "cell_type": "code",
   "execution_count": 26,
   "metadata": {},
   "outputs": [],
   "source": [
    "# create x (independent) and y(target) variables\n",
    "X = df1.drop('machine_status', axis=1) \n",
    "y = df1['machine_status'].values\n",
    "\n",
    "# split data into test and training sets\n",
    "# set seed to 42 so no matter how many times you execute your code the result would be the same . i.e, same values in train and test datasets.\n",
    "X_train, X_test, y_train, y_test = train_test_split(X, y, test_size=0.3, random_state=42)"
   ]
  },
  {
   "cell_type": "markdown",
   "metadata": {},
   "source": [
    "<div class=\"alert alert-success\">\n",
    "<H3> Step 4. Build the model </H3>\n",
    "    \n",
    "Sub-Steps involved:\n",
    "    <ol>\n",
    "        <li>___Parameter settings___: there are often a large number of parameters that can be adjusted here and with any modeling tool. Here I will list the parameters along with their chosen values, and my rationale for the choice of the parameter settings.</li>\n",
    "        <li>___Models___: Here, I will state the actual models produced by the modeling tool.</li>\n",
    "        <li>___Model descriptions___: Here, I will describe the resulting models, report on the interpretation of the models and document any difficulties encountered with their meanings.</li>\n",
    "    </ol>"
   ]
  },
  {
   "cell_type": "code",
   "execution_count": 27,
   "metadata": {},
   "outputs": [],
   "source": [
    "def run_regression_accuracy(X_train, y_train, X_test, y_test):\n",
    "  logreg = LogisticRegression()\n",
    "  logreg.fit(X_train, y_train)\n",
    "  y_pred = logreg.predict(X_test)\n",
    "  print('Accuracy of logistic regression classifier on test set: {:.2f}'.format(logreg.score(X_test, y_test)))\n",
    "  cm = confusion_matrix(y_test, y_pred)\n",
    "  print('\\nConfusion matrix: \\n',cm)\n",
    "\n",
    "  print('\\nClassification report: \\n',classification_report(y_test, y_pred))\n",
    "\n",
    "  logit_roc_auc = roc_auc_score(y_test, logreg.predict(X_test))\n",
    "  fpr, tpr, thresholds = roc_curve(y_test, logreg.predict_proba(X_test)[:,1])\n",
    "\n",
    "  plt.figure()\n",
    "  plt.plot(fpr, tpr, label='Logistic Regression (area = %0.2f)' % logit_roc_auc)\n",
    "  plt.plot([0, 1], [0, 1],'r--')\n",
    "  plt.xlim([0.0, 1.0])\n",
    "  plt.ylim([0.0, 1.05])\n",
    "  plt.xlabel('False Positive Rate')\n",
    "  plt.ylabel('True Positive Rate')\n",
    "  plt.title('Receiver operating characteristic')\n",
    "  plt.legend(loc=\"lower right\")\n",
    "  plt.savefig('Log_ROC')\n",
    "  plt.show()\n",
    "  \n",
    "  return logreg"
   ]
  },
  {
   "cell_type": "code",
   "execution_count": 28,
   "metadata": {},
   "outputs": [
    {
     "data": {
      "text/html": [
       "<div>\n",
       "<style scoped>\n",
       "    .dataframe tbody tr th:only-of-type {\n",
       "        vertical-align: middle;\n",
       "    }\n",
       "\n",
       "    .dataframe tbody tr th {\n",
       "        vertical-align: top;\n",
       "    }\n",
       "\n",
       "    .dataframe thead th {\n",
       "        text-align: right;\n",
       "    }\n",
       "</style>\n",
       "<table border=\"1\" class=\"dataframe\">\n",
       "  <thead>\n",
       "    <tr style=\"text-align: right;\">\n",
       "      <th></th>\n",
       "      <th>sensor_13</th>\n",
       "      <th>sensor_34</th>\n",
       "      <th>sensor_37</th>\n",
       "      <th>sensor_38</th>\n",
       "      <th>sensor_48</th>\n",
       "    </tr>\n",
       "  </thead>\n",
       "  <tbody>\n",
       "    <tr>\n",
       "      <th>186015</th>\n",
       "      <td>20.193380</td>\n",
       "      <td>216.84510</td>\n",
       "      <td>12.649230</td>\n",
       "      <td>45.312500</td>\n",
       "      <td>157.696800</td>\n",
       "    </tr>\n",
       "    <tr>\n",
       "      <th>138786</th>\n",
       "      <td>0.069444</td>\n",
       "      <td>291.35020</td>\n",
       "      <td>66.369590</td>\n",
       "      <td>45.572910</td>\n",
       "      <td>142.071800</td>\n",
       "    </tr>\n",
       "    <tr>\n",
       "      <th>206803</th>\n",
       "      <td>11.781830</td>\n",
       "      <td>237.69250</td>\n",
       "      <td>13.409890</td>\n",
       "      <td>45.833330</td>\n",
       "      <td>258.101800</td>\n",
       "    </tr>\n",
       "    <tr>\n",
       "      <th>31921</th>\n",
       "      <td>3.110026</td>\n",
       "      <td>183.94780</td>\n",
       "      <td>97.478560</td>\n",
       "      <td>49.739580</td>\n",
       "      <td>142.071800</td>\n",
       "    </tr>\n",
       "    <tr>\n",
       "      <th>45782</th>\n",
       "      <td>1.915992</td>\n",
       "      <td>61.34266</td>\n",
       "      <td>94.110440</td>\n",
       "      <td>59.635410</td>\n",
       "      <td>71.469910</td>\n",
       "    </tr>\n",
       "    <tr>\n",
       "      <th>...</th>\n",
       "      <td>...</td>\n",
       "      <td>...</td>\n",
       "      <td>...</td>\n",
       "      <td>...</td>\n",
       "      <td>...</td>\n",
       "    </tr>\n",
       "    <tr>\n",
       "      <th>19083</th>\n",
       "      <td>0.425165</td>\n",
       "      <td>174.72910</td>\n",
       "      <td>85.573680</td>\n",
       "      <td>34.114580</td>\n",
       "      <td>41.087960</td>\n",
       "    </tr>\n",
       "    <tr>\n",
       "      <th>248001</th>\n",
       "      <td>12.217860</td>\n",
       "      <td>363.03200</td>\n",
       "      <td>44.776010</td>\n",
       "      <td>50.000000</td>\n",
       "      <td>230.324100</td>\n",
       "    </tr>\n",
       "    <tr>\n",
       "      <th>234651</th>\n",
       "      <td>11.076400</td>\n",
       "      <td>287.91450</td>\n",
       "      <td>30.047530</td>\n",
       "      <td>48.697910</td>\n",
       "      <td>99.537030</td>\n",
       "    </tr>\n",
       "    <tr>\n",
       "      <th>126737</th>\n",
       "      <td>0.865070</td>\n",
       "      <td>85.07249</td>\n",
       "      <td>20.287874</td>\n",
       "      <td>51.041660</td>\n",
       "      <td>46.296300</td>\n",
       "    </tr>\n",
       "    <tr>\n",
       "      <th>128749</th>\n",
       "      <td>0.000000</td>\n",
       "      <td>260.74540</td>\n",
       "      <td>45.892530</td>\n",
       "      <td>28.385416</td>\n",
       "      <td>30.960648</td>\n",
       "    </tr>\n",
       "  </tbody>\n",
       "</table>\n",
       "<p>88126 rows × 5 columns</p>\n",
       "</div>"
      ],
      "text/plain": [
       "        sensor_13  sensor_34  sensor_37  sensor_38   sensor_48\n",
       "186015  20.193380  216.84510  12.649230  45.312500  157.696800\n",
       "138786   0.069444  291.35020  66.369590  45.572910  142.071800\n",
       "206803  11.781830  237.69250  13.409890  45.833330  258.101800\n",
       "31921    3.110026  183.94780  97.478560  49.739580  142.071800\n",
       "45782    1.915992   61.34266  94.110440  59.635410   71.469910\n",
       "...           ...        ...        ...        ...         ...\n",
       "19083    0.425165  174.72910  85.573680  34.114580   41.087960\n",
       "248001  12.217860  363.03200  44.776010  50.000000  230.324100\n",
       "234651  11.076400  287.91450  30.047530  48.697910   99.537030\n",
       "126737   0.865070   85.07249  20.287874  51.041660   46.296300\n",
       "128749   0.000000  260.74540  45.892530  28.385416   30.960648\n",
       "\n",
       "[88126 rows x 5 columns]"
      ]
     },
     "execution_count": 28,
     "metadata": {},
     "output_type": "execute_result"
    }
   ],
   "source": [
    "X_test = X_test[X_train.columns]\n",
    "X_test"
   ]
  },
  {
   "cell_type": "markdown",
   "metadata": {},
   "source": [
    "<div class=\"alert alert-success\">\n",
    "<H3> Step 5. Assess the model </H3>\n",
    "    \n",
    "Sub-Steps involved:\n",
    "    <ol>\n",
    "        <li>___Model assessment___: Here, I will summarize the results of this task, list the qualities of the generated models (e.g.in terms of accuracy) , and rank their performance to each other.</li>\n",
    "        <li>___Revised parameter settings___: Here, I will state the actual models produced by the modeling tool.</li>\n",
    "        <li>___Model descriptions___: Corresponding to the model assessment, here I will revise parameter settings and tune them for the next modeling run. Iterate model building and evaluation until I firmly believe that I have found the best model(s). Additionally, I will document any such revisions and assessments for reproducibility.</li>\n",
    "    </ol>"
   ]
  },
  {
   "cell_type": "code",
   "execution_count": 29,
   "metadata": {},
   "outputs": [
    {
     "name": "stdout",
     "output_type": "stream",
     "text": [
      "Accuracy of logistic regression classifier on test set: 0.79\n",
      "\n",
      "Confusion matrix: \n",
      " [[66147    54]\n",
      " [18743  3182]]\n",
      "\n",
      "Classification report: \n",
      "               precision    recall  f1-score   support\n",
      "\n",
      "         0.0       0.78      1.00      0.88     66201\n",
      "         1.0       0.98      0.15      0.25     21925\n",
      "\n",
      "    accuracy                           0.79     88126\n",
      "   macro avg       0.88      0.57      0.56     88126\n",
      "weighted avg       0.83      0.79      0.72     88126\n",
      "\n"
     ]
    },
    {
     "data": {
      "image/png": "[encoded data removed]",
      "text/plain": [
       "<Figure size 432x288 with 1 Axes>"
      ]
     },
     "metadata": {
      "needs_background": "light"
     },
     "output_type": "display_data"
    }
   ],
   "source": [
    "logreg = run_regression_accuracy(X_train, y_train, X_test, y_test)"
   ]
  },
  {
   "cell_type": "code",
   "execution_count": 30,
   "metadata": {},
   "outputs": [
    {
     "name": "stdout",
     "output_type": "stream",
     "text": [
      "Training set score: 0.785\n",
      "Test set score: 0.787\n",
      "Optimization terminated successfully.\n",
      "         Current function value: 0.540371\n",
      "         Iterations 5\n",
      "                           Logit Regression Results                           \n",
      "==============================================================================\n",
      "Dep. Variable:                      y   No. Observations:               293751\n",
      "Model:                          Logit   Df Residuals:                   293746\n",
      "Method:                           MLE   Df Model:                            4\n",
      "Date:                Mon, 09 Mar 2020   Pseudo R-squ.:                 0.03906\n",
      "Time:                        16:02:17   Log-Likelihood:            -1.5873e+05\n",
      "converged:                       True   LL-Null:                   -1.6519e+05\n",
      "Covariance Type:            nonrobust   LLR p-value:                     0.000\n",
      "==============================================================================\n",
      "                 coef    std err          z      P>|z|      [0.025      0.975]\n",
      "------------------------------------------------------------------------------\n",
      "sensor_13     -0.0695      0.001    -83.792      0.000      -0.071      -0.068\n",
      "sensor_34     -0.0012   3.53e-05    -34.793      0.000      -0.001      -0.001\n",
      "sensor_37     -0.0130      0.000   -120.131      0.000      -0.013      -0.013\n",
      "sensor_38      0.0078   7.87e-05     98.955      0.000       0.008       0.008\n",
      "sensor_48      0.0003   5.06e-05      5.276      0.000       0.000       0.000\n",
      "==============================================================================\n"
     ]
    }
   ],
   "source": [
    "print(\"Training set score: {:.3f}\".format(logreg.score(X_train, y_train)))\n",
    "print(\"Test set score: {:.3f}\".format(logreg.score(X_test, y_test)))\n",
    "\n",
    "import statsmodels.api as sm\n",
    "logit_model=sm.Logit(y, X)\n",
    "result=logit_model.fit()\n",
    "print(result.summary())"
   ]
  },
  {
   "cell_type": "code",
   "execution_count": 33,
   "metadata": {},
   "outputs": [
    {
     "name": "stdout",
     "output_type": "stream",
     "text": [
      "                  0         1\n",
      "sensor_13 -0.071150 -0.067898\n",
      "sensor_34 -0.001298 -0.001159\n",
      "sensor_37 -0.013180 -0.012757\n",
      "sensor_38  0.007631  0.007939\n",
      "sensor_48  0.000168  0.000366\n"
     ]
    }
   ],
   "source": [
    "# The resulting object also lets you to isolate and inspect parts of the model output.\n",
    "print(result.conf_int())"
   ]
  },
  {
   "cell_type": "code",
   "execution_count": 35,
   "metadata": {},
   "outputs": [
    {
     "name": "stdout",
     "output_type": "stream",
     "text": [
      "sensor_13    0.932838\n",
      "sensor_34    0.998772\n",
      "sensor_37    0.987115\n",
      "sensor_38    1.007815\n",
      "sensor_48    1.000267\n",
      "dtype: float64\n"
     ]
    }
   ],
   "source": [
    "# odds ratios only\n",
    "print(np.exp(result.params))"
   ]
  },
  {
   "cell_type": "code",
   "execution_count": 36,
   "metadata": {},
   "outputs": [
    {
     "name": "stdout",
     "output_type": "stream",
     "text": [
      "               2.5%     97.5%        OR\n",
      "sensor_13  0.931322  0.934356  0.932838\n",
      "sensor_34  0.998703  0.998841  0.998772\n",
      "sensor_37  0.986906  0.987324  0.987115\n",
      "sensor_38  1.007660  1.007970  1.007815\n",
      "sensor_48  1.000168  1.000366  1.000267\n"
     ]
    }
   ],
   "source": [
    "# odds ratios and 95% CI\n",
    "params = result.params\n",
    "conf = result.conf_int()\n",
    "conf['OR'] = params\n",
    "conf.columns = ['2.5%', '97.5%', 'OR']\n",
    "print(np.exp(conf))"
   ]
  },
  {
   "cell_type": "code",
   "execution_count": 31,
   "metadata": {},
   "outputs": [
    {
     "name": "stdout",
     "output_type": "stream",
     "text": [
      "Accuracy of logistic regression classifier on test set: 0.79\n",
      "\n",
      "Confusion matrix: \n",
      " [[66147    54]\n",
      " [18743  3182]]\n",
      "\n",
      "Classification report: \n",
      "               precision    recall  f1-score   support\n",
      "\n",
      "         0.0       0.78      1.00      0.88     66201\n",
      "         1.0       0.98      0.15      0.25     21925\n",
      "\n",
      "    accuracy                           0.79     88126\n",
      "   macro avg       0.88      0.57      0.56     88126\n",
      "weighted avg       0.83      0.79      0.72     88126\n",
      "\n"
     ]
    },
    {
     "data": {
      "image/png": "[encoded data removed]",
      "text/plain": [
       "<Figure size 432x288 with 1 Axes>"
      ]
     },
     "metadata": {
      "needs_background": "light"
     },
     "output_type": "display_data"
    }
   ],
   "source": [
    "logreg = run_regression_accuracy(X_train, y_train, X_test, y_test)"
   ]
  },
  {
   "cell_type": "code",
   "execution_count": null,
   "metadata": {},
   "outputs": [],
   "source": []
  }
 ],
 "metadata": {
  "kernelspec": {
   "display_name": "Python 3",
   "language": "python",
   "name": "python3"
  },
  "language_info": {
   "codemirror_mode": {
    "name": "ipython",
    "version": 3
   },
   "file_extension": ".py",
   "mimetype": "text/x-python",
   "name": "python",
   "nbconvert_exporter": "python",
   "pygments_lexer": "ipython3",
   "version": "3.7.3"
  }
 },
 "nbformat": 4,
 "nbformat_minor": 4
}
