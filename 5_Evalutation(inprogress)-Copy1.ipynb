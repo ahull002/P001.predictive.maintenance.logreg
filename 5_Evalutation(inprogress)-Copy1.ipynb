{
 "cells": [
  {
   "cell_type": "markdown",
   "metadata": {},
   "source": [
    "# Capstone 1 Springboard\n",
    "## Predictive Maintenance Utilizing CRISP-DM\n",
    "\n",
    "![crisp-dm-phases](Data/tdsp-lifecycle2.png)\n",
    "\n",
    "### Phase II. Data Understanding ###\n",
    "\n",
    "**Set Objectives**\n",
    "\n",
    "_Data collection_\n",
    "> a.    Initial data collection report\n",
    "\n",
    "_Data Description_\n",
    "> a.    Data description report\n",
    "\n",
    "_Data Exploration_\n",
    "> a.    Data exploration report\n",
    "\n",
    "_Data Quality_\n",
    "> a.    Data quality report\n",
    "\n",
    "_Review and approval point_"
   ]
  },
  {
   "cell_type": "markdown",
   "metadata": {},
   "source": [
    "#### Data Collection ####\n",
    "\n",
    "The organization, in this example, supplied a “Binary Large Object” (BLOB) of sensor data from one of its internal highly compartmentalized systems in a .csv file format. \n",
    "\n",
    "> **Sensor logs:** The raw access logs contain information on a select set of sensors which feedback signal data across the enterprise.\n",
    "\n",
    "> **Data Source:** Sensor logs contain information on a select set of sensors which feedback signal data across the enterprise.\n",
    "\n",
    "> **Location:** One undisclosed test site.\n",
    "\n",
    "> **Method:** Due to the compartmentalized nature of the information utilized in the following overview, data was pulled, validated, cleared, and parsed to a .csv file for purposes of this project.\n",
    "\n",
    "> **Obstacles:** None\n",
    "\n",
    "At this moment, the organization has no plans to procure external databases or invest in dispatching teams to each site as its engineers, analysts, and managers are busy managing the data they currently have. At some point, however, they might want to consider an extended deployment of data mining results, in which case purchasing additional IT infrastructure to capture sensor data not centrally registered may be quite useful. It may also be helpful to have demographic information to see how the maintainers across regions vary in skill set and maintenance practices."
   ]
  },
  {
   "cell_type": "code",
   "execution_count": null,
   "metadata": {},
   "outputs": [],
   "source": []
  }
 ],
 "metadata": {
  "kernelspec": {
   "display_name": "Python 3",
   "language": "python",
   "name": "python3"
  },
  "language_info": {
   "codemirror_mode": {
    "name": "ipython",
    "version": 3
   },
   "file_extension": ".py",
   "mimetype": "text/x-python",
   "name": "python",
   "nbconvert_exporter": "python",
   "pygments_lexer": "ipython3",
   "version": "3.7.3"
  }
 },
 "nbformat": 4,
 "nbformat_minor": 4
}
